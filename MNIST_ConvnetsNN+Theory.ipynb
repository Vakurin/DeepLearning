{
  "nbformat": 4,
  "nbformat_minor": 0,
  "metadata": {
    "colab": {
      "name": "MNIST Convnets NN + Theory.ipynb",
      "version": "0.3.2",
      "provenance": [],
      "collapsed_sections": []
    },
    "kernelspec": {
      "display_name": "Python 3",
      "language": "python",
      "name": "python3"
    },
    "accelerator": "GPU"
  },
  "cells": [
    {
      "metadata": {
        "id": "nElf10hDsKO2",
        "colab_type": "text"
      },
      "cell_type": "markdown",
      "source": [
        "### Make sure we can used GPU"
      ]
    },
    {
      "metadata": {
        "id": "FEWunQfhqzSs",
        "colab_type": "code",
        "colab": {
          "base_uri": "https://localhost:8080/",
          "height": 34
        },
        "outputId": "b2e148e2-dfb4-4ce1-dd77-32632200340f"
      },
      "cell_type": "code",
      "source": [
        "import tensorflow as tf\n",
        "device_name = tf.test.gpu_device_name()\n",
        "if device_name != '/device:GPU:0':\n",
        "  raise SystemError('GPU device not found')\n",
        "print('Found GPU at: {}'.format(device_name))"
      ],
      "execution_count": 1,
      "outputs": [
        {
          "output_type": "stream",
          "text": [
            "Found GPU at: /device:GPU:0\n"
          ],
          "name": "stdout"
        }
      ]
    },
    {
      "metadata": {
        "id": "8tyRexcms7sQ",
        "colab_type": "text"
      },
      "cell_type": "markdown",
      "source": [
        "### Import libraries"
      ]
    },
    {
      "metadata": {
        "id": "NQopYELLqjrA",
        "colab_type": "code",
        "colab": {
          "base_uri": "https://localhost:8080/",
          "height": 34
        },
        "outputId": "520fcf78-3ab8-4cde-d99c-fea53afaf6be"
      },
      "cell_type": "code",
      "source": [
        "import numpy as np\n",
        "import os\n",
        "from keras.datasets import mnist\n",
        "from keras.utils import to_categorical\n",
        "from keras import models\n",
        "from keras import layers\n",
        "import matplotlib.pyplot as plt"
      ],
      "execution_count": 2,
      "outputs": [
        {
          "output_type": "stream",
          "text": [
            "Using TensorFlow backend.\n"
          ],
          "name": "stderr"
        }
      ]
    },
    {
      "metadata": {
        "id": "tSNWAFdLr7Qn",
        "colab_type": "text"
      },
      "cell_type": "markdown",
      "source": [
        "### Download data"
      ]
    },
    {
      "metadata": {
        "id": "fgz9aL_vs41z",
        "colab_type": "code",
        "colab": {
          "base_uri": "https://localhost:8080/",
          "height": 51
        },
        "outputId": "59647173-8da6-48c6-9201-d71663822570"
      },
      "cell_type": "code",
      "source": [
        "(train_images, train_labels), (test_images, test_labels) = mnist.load_data()"
      ],
      "execution_count": 3,
      "outputs": [
        {
          "output_type": "stream",
          "text": [
            "Downloading data from https://s3.amazonaws.com/img-datasets/mnist.npz\n",
            "11493376/11490434 [==============================] - 0s 0us/step\n"
          ],
          "name": "stdout"
        }
      ]
    },
    {
      "metadata": {
        "id": "vyFTZIuYWzLR",
        "colab_type": "text"
      },
      "cell_type": "markdown",
      "source": [
        "### Create NN\n",
        "---\n",
        "* Input tenzor  shape = (28, 28, 1) #Height, Width, Channel Color\n",
        "* Size templates - usually 3 x 3 or 5 x 5"
      ]
    },
    {
      "metadata": {
        "id": "E3RHwuoZUF7j",
        "colab_type": "code",
        "colab": {}
      },
      "cell_type": "code",
      "source": [
        "model = models.Sequential()\n",
        "model.add(layers.Conv2D(32, (3, 3), activation='relu', input_shape=(28, 28, 1))) # Asix Deep 1(gray)\n",
        "model.add(layers.MaxPooling2D((2, 2)))\n",
        "model.add(layers.Conv2D(64, (3, 3), activation='relu'))\n",
        "model.add(layers.MaxPooling2D((2, 2)))\n",
        "model.add(layers.Conv2D(128, (3, 3), activation='relu'))"
      ],
      "execution_count": 0,
      "outputs": []
    },
    {
      "metadata": {
        "id": "HqMI7ti8f9Gw",
        "colab_type": "text"
      },
      "cell_type": "markdown",
      "source": [
        "Свертка работает методом скользящего окна: она двигает окно размером(3х3/5х5) по трехмерной входной карте признаков, останавливаесь на каждой возможно позиции и извлекая трехмерный шаблон окружающих признаков.\n",
        "\n",
        "Первый сверточный слой принимает карту признаков с разрмером(28, 28, 1) и **выводит карту признаков размеров(26, 26, 32)**:\n",
        "* Он вычисляет 32 фильтра по входным данным\n",
        "* Каждый из этих 32 фильтров содержит сетку 26 х 26 значений - **Карту ответов** - фильтра на входные данные определяющие ответ этого шаблона фильтра на разных участках входных данных\n",
        "* **Карта признаков** - каждое измерение на оси глубины - это признак(фильтр), а двумерный тензнор output[ :, :, n] - это двумерная пространственная карта ответов этого фильтра на входных данных. \n",
        "\n",
        "\n",
        "**MaxPooling2D - аргессивное уменьшение разрешения карты признаков данной операции.**\n",
        "Уменьшение разрешения используется для уменьшения количества коэф в карте признаков для обработки\n",
        "\n",
        "Цель слоя – уменьшение размерности карт предыдущего слоя. Если на предыдущей операции свертки уже были выявлены некоторые признаки, то для дальнейшей обработки настолько подробное изображение уже не нужно, и оно уплотняется до менее подробного. К тому же фильтрация уже ненужных деталей помогает не переобучаться. \n",
        "В процессе сканирования ядром подвыборочного слоя (фильтром) карты предыдущего слоя, сканирующее ядро не пересекается в отличие от сверточного слоя. Обычно, каждая карта имеет ядро размером 2x2, что позволяет уменьшить предыдущие карты сверточного слоя в 2 раза. Вся карта признаков разделяется на ячейки 2х2 элемента, из которых выбираются максимальные по значению.\n",
        "\n",
        "**MaxPooling – выбор максимального**\n",
        "![](https://habrastorage.org/webt/0u/ji/tm/0ujitma2xn_ndxqswj5s31je2am.png)"
      ]
    },
    {
      "metadata": {
        "id": "oY6zOwsQoHre",
        "colab_type": "text"
      },
      "cell_type": "markdown",
      "source": [
        "Окно размером ядра K(3x3) проходит с заданным шагом (обычно 1) все изображение I, на каждом шаге поэлементно умножаем содержимое окна на ядро K, результат суммируется и записывается в матрицу результата:\n",
        "![asa](https://habrastorage.org/webt/v9/k2/kc/v9k2kc8ng4nrhryunr3wr6l5brg.png)"
      ]
    },
    {
      "metadata": {
        "id": "ced6tx08n5mU",
        "colab_type": "text"
      },
      "cell_type": "markdown",
      "source": [
        "![image](https://habrastorage.org/webt/o0/zh/rz/o0zhrzr_ml2tgsfmvl-mcrxjmbq.gif)"
      ]
    },
    {
      "metadata": {
        "id": "GXP0UfnOUJkg",
        "colab_type": "code",
        "colab": {
          "base_uri": "https://localhost:8080/",
          "height": 306
        },
        "outputId": "a5ab0abd-d109-4837-a2da-f7c14fd2c1b1"
      },
      "cell_type": "code",
      "source": [
        "model.summary()"
      ],
      "execution_count": 7,
      "outputs": [
        {
          "output_type": "stream",
          "text": [
            "_________________________________________________________________\n",
            "Layer (type)                 Output Shape              Param #   \n",
            "=================================================================\n",
            "conv2d_4 (Conv2D)            (None, 26, 26, 32)        320       \n",
            "_________________________________________________________________\n",
            "max_pooling2d_3 (MaxPooling2 (None, 13, 13, 32)        0         \n",
            "_________________________________________________________________\n",
            "conv2d_5 (Conv2D)            (None, 11, 11, 64)        18496     \n",
            "_________________________________________________________________\n",
            "max_pooling2d_4 (MaxPooling2 (None, 5, 5, 64)          0         \n",
            "_________________________________________________________________\n",
            "conv2d_6 (Conv2D)            (None, 3, 3, 128)         73856     \n",
            "=================================================================\n",
            "Total params: 92,672\n",
            "Trainable params: 92,672\n",
            "Non-trainable params: 0\n",
            "_________________________________________________________________\n"
          ],
          "name": "stdout"
        }
      ]
    },
    {
      "metadata": {
        "id": "Zc-voOXGZ9pF",
        "colab_type": "text"
      },
      "cell_type": "markdown",
      "source": [
        "### Architecture Network\n",
        "* All layers output 3D Tenzor with shape(height, width, channel)\n",
        "* Shapes Compressed Every Layer\n",
        "* Number channels controlled first arg in Conv2D"
      ]
    },
    {
      "metadata": {
        "id": "gU91HsGSbMHo",
        "colab_type": "text"
      },
      "cell_type": "markdown",
      "source": [
        "### Next Step we need give last input layer(3, 3, 128) in classification network. Classification works with 1D array, so we need turn our 3D in 1D."
      ]
    },
    {
      "metadata": {
        "id": "2hNH8sSuUOiq",
        "colab_type": "code",
        "colab": {}
      },
      "cell_type": "code",
      "source": [
        "model.add(layers.Flatten())\n",
        "model.add(layers.Dense(128, activation='relu'))\n",
        "model.add(layers.Dense(10, activation='softmax'))"
      ],
      "execution_count": 0,
      "outputs": []
    },
    {
      "metadata": {
        "id": "72NuzdRzcMf3",
        "colab_type": "text"
      },
      "cell_type": "markdown",
      "source": [
        "### Flatten Layer converts output(3, 3, 128)"
      ]
    },
    {
      "metadata": {
        "id": "EO_sUo-WUP1_",
        "colab_type": "code",
        "colab": {
          "base_uri": "https://localhost:8080/",
          "height": 408
        },
        "outputId": "490b1a53-1375-454d-884f-8dfb52bebfa8"
      },
      "cell_type": "code",
      "source": [
        "model.summary()"
      ],
      "execution_count": 9,
      "outputs": [
        {
          "output_type": "stream",
          "text": [
            "_________________________________________________________________\n",
            "Layer (type)                 Output Shape              Param #   \n",
            "=================================================================\n",
            "conv2d_4 (Conv2D)            (None, 26, 26, 32)        320       \n",
            "_________________________________________________________________\n",
            "max_pooling2d_3 (MaxPooling2 (None, 13, 13, 32)        0         \n",
            "_________________________________________________________________\n",
            "conv2d_5 (Conv2D)            (None, 11, 11, 64)        18496     \n",
            "_________________________________________________________________\n",
            "max_pooling2d_4 (MaxPooling2 (None, 5, 5, 64)          0         \n",
            "_________________________________________________________________\n",
            "conv2d_6 (Conv2D)            (None, 3, 3, 128)         73856     \n",
            "_________________________________________________________________\n",
            "flatten_1 (Flatten)          (None, 1152)              0         \n",
            "_________________________________________________________________\n",
            "dense_1 (Dense)              (None, 128)               147584    \n",
            "_________________________________________________________________\n",
            "dense_2 (Dense)              (None, 10)                1290      \n",
            "=================================================================\n",
            "Total params: 241,546\n",
            "Trainable params: 241,546\n",
            "Non-trainable params: 0\n",
            "_________________________________________________________________\n"
          ],
          "name": "stdout"
        }
      ]
    },
    {
      "metadata": {
        "id": "ygjeQTsNTcQY",
        "colab_type": "code",
        "colab": {}
      },
      "cell_type": "code",
      "source": [
        "train_images = train_images.reshape((60000, 28, 28, 1))\n",
        "train_images = train_images.astype('float32') / 255\n",
        "\n",
        "test_images = test_images.reshape((10000, 28, 28, 1))\n",
        "test_images = test_images.astype('float32') / 255\n",
        "\n",
        "train_labels = to_categorical(train_labels)\n",
        "test_labels  = to_categorical(test_labels)"
      ],
      "execution_count": 0,
      "outputs": []
    },
    {
      "metadata": {
        "id": "AFoyLwXgTcaj",
        "colab_type": "code",
        "colab": {
          "base_uri": "https://localhost:8080/",
          "height": 204
        },
        "outputId": "d96c125c-33dd-447f-c2f5-b4d4e27e10ea"
      },
      "cell_type": "code",
      "source": [
        "model.compile(optimizer='rmsprop',\n",
        "              loss='categorical_crossentropy',\n",
        "              metrics=['accuracy'])\n",
        "model.fit(train_images, train_labels, epochs=5, batch_size=64)"
      ],
      "execution_count": 11,
      "outputs": [
        {
          "output_type": "stream",
          "text": [
            "Epoch 1/5\n",
            "60000/60000 [==============================] - 13s 217us/step - loss: 0.1393 - acc: 0.9555\n",
            "Epoch 2/5\n",
            "60000/60000 [==============================] - 11s 190us/step - loss: 0.0391 - acc: 0.9879\n",
            "Epoch 3/5\n",
            "60000/60000 [==============================] - 12s 195us/step - loss: 0.0266 - acc: 0.9919\n",
            "Epoch 4/5\n",
            "60000/60000 [==============================] - 12s 197us/step - loss: 0.0209 - acc: 0.9940\n",
            "Epoch 5/5\n",
            "60000/60000 [==============================] - 12s 195us/step - loss: 0.0156 - acc: 0.9953\n"
          ],
          "name": "stdout"
        },
        {
          "output_type": "execute_result",
          "data": {
            "text/plain": [
              "<keras.callbacks.History at 0x7ff2a6cb0a58>"
            ]
          },
          "metadata": {
            "tags": []
          },
          "execution_count": 11
        }
      ]
    },
    {
      "metadata": {
        "id": "6XTfmD5uTcf2",
        "colab_type": "code",
        "colab": {
          "base_uri": "https://localhost:8080/",
          "height": 34
        },
        "outputId": "bb841954-ecf4-49b0-9c80-d6ad6b59e4df"
      },
      "cell_type": "code",
      "source": [
        "test_loss, test_acc = model.evaluate(test_images, test_labels)"
      ],
      "execution_count": 12,
      "outputs": [
        {
          "output_type": "stream",
          "text": [
            "10000/10000 [==============================] - 1s 117us/step\n"
          ],
          "name": "stdout"
        }
      ]
    },
    {
      "metadata": {
        "id": "pUdRHkvyTcls",
        "colab_type": "code",
        "colab": {
          "base_uri": "https://localhost:8080/",
          "height": 34
        },
        "outputId": "e3c73e1b-7d52-4b79-cf35-e54632c28107"
      },
      "cell_type": "code",
      "source": [
        "print('Accuracy', test_acc * 100, '%')"
      ],
      "execution_count": 13,
      "outputs": [
        {
          "output_type": "stream",
          "text": [
            "Accuracy 99.22999999999999 %\n"
          ],
          "name": "stdout"
        }
      ]
    },
    {
      "metadata": {
        "id": "NU-mQWn6sCBD",
        "colab_type": "text"
      },
      "cell_type": "markdown",
      "source": [
        "### Change Colab Directory"
      ]
    },
    {
      "metadata": {
        "id": "kLYvj0X7w2A0",
        "colab_type": "code",
        "colab": {
          "base_uri": "https://localhost:8080/",
          "height": 34
        },
        "outputId": "387643e2-5a05-456c-f99a-41bf741830a9"
      },
      "cell_type": "code",
      "source": [
        "pwd"
      ],
      "execution_count": 0,
      "outputs": [
        {
          "output_type": "execute_result",
          "data": {
            "text/plain": [
              "'/content'"
            ]
          },
          "metadata": {
            "tags": []
          },
          "execution_count": 2
        }
      ]
    },
    {
      "metadata": {
        "id": "fvG4kklhq8eY",
        "colab_type": "code",
        "colab": {
          "base_uri": "https://localhost:8080/",
          "height": 122
        },
        "outputId": "687ef4cd-2f37-4641-ee75-71c5d9871c76"
      },
      "cell_type": "code",
      "source": [
        "from google.colab import drive\n",
        "drive.mount('/content/drive')"
      ],
      "execution_count": 0,
      "outputs": [
        {
          "output_type": "stream",
          "text": [
            "Go to this URL in a browser: https://accounts.google.com/o/oauth2/auth?client_id=947318989803-6bn6qk8qdgf4n4g3pfee6491hc0brc4i.apps.googleusercontent.com&redirect_uri=urn%3Aietf%3Awg%3Aoauth%3A2.0%3Aoob&scope=email%20https%3A%2F%2Fwww.googleapis.com%2Fauth%2Fdocs.test%20https%3A%2F%2Fwww.googleapis.com%2Fauth%2Fdrive%20https%3A%2F%2Fwww.googleapis.com%2Fauth%2Fdrive.photos.readonly%20https%3A%2F%2Fwww.googleapis.com%2Fauth%2Fpeopleapi.readonly&response_type=code\n",
            "\n",
            "Enter your authorization code:\n",
            "··········\n",
            "Mounted at /content/drive\n"
          ],
          "name": "stdout"
        }
      ]
    },
    {
      "metadata": {
        "id": "kr12qwBxrc9p",
        "colab_type": "code",
        "colab": {
          "base_uri": "https://localhost:8080/",
          "height": 34
        },
        "outputId": "ed304b19-62fa-480c-d77e-574fe64d7c03"
      },
      "cell_type": "code",
      "source": [
        "cd drive/My Drive/DeepLearning/Colab Notebooks"
      ],
      "execution_count": 0,
      "outputs": [
        {
          "output_type": "stream",
          "text": [
            "/content/drive/My Drive/DeepLearning/Colab Notebooks\n"
          ],
          "name": "stdout"
        }
      ]
    },
    {
      "metadata": {
        "id": "OWoMFOkVEEF9",
        "colab_type": "text"
      },
      "cell_type": "markdown",
      "source": [
        "### Save Our Model"
      ]
    },
    {
      "metadata": {
        "id": "NHmr8Wk8C1d2",
        "colab_type": "code",
        "colab": {
          "base_uri": "https://localhost:8080/",
          "height": 34
        },
        "outputId": "4453e024-b0ab-4d5f-ab04-ff762ba1a65d"
      },
      "cell_type": "code",
      "source": [
        "pwd"
      ],
      "execution_count": 0,
      "outputs": [
        {
          "output_type": "execute_result",
          "data": {
            "text/plain": [
              "'/content/drive/My Drive/DeepLearning/Colab Notebooks'"
            ]
          },
          "metadata": {
            "tags": []
          },
          "execution_count": 67
        }
      ]
    },
    {
      "metadata": {
        "id": "wJ1loxkVC4ck",
        "colab_type": "code",
        "colab": {}
      },
      "cell_type": "code",
      "source": [
        "path = 'model_weight/'"
      ],
      "execution_count": 0,
      "outputs": []
    },
    {
      "metadata": {
        "id": "aGVlOFNJBNd8",
        "colab_type": "code",
        "colab": {}
      },
      "cell_type": "code",
      "source": [
        "L2_model.save(os.path.join(path, 'L2_model.h5'))"
      ],
      "execution_count": 0,
      "outputs": []
    },
    {
      "metadata": {
        "id": "0N0Jg65fG-Ns",
        "colab_type": "text"
      },
      "cell_type": "markdown",
      "source": [
        "### Load Model "
      ]
    },
    {
      "metadata": {
        "id": "8Ge4_IF0Dp0o",
        "colab_type": "code",
        "colab": {}
      },
      "cell_type": "code",
      "source": [
        "from keras.models import load_model\n",
        "model_L2 = load_model(os.path.join(path, 'L2_model.h5'))"
      ],
      "execution_count": 0,
      "outputs": []
    },
    {
      "metadata": {
        "id": "FFxamjf9G1a3",
        "colab_type": "text"
      },
      "cell_type": "markdown",
      "source": [
        "### Download Files On Computer"
      ]
    },
    {
      "metadata": {
        "id": "9dqjPDv1FJWN",
        "colab_type": "code",
        "colab": {}
      },
      "cell_type": "code",
      "source": [
        "from google.colab import files\n",
        "files.download(\"model_weight/L2_model.h5\")"
      ],
      "execution_count": 0,
      "outputs": []
    },
    {
      "metadata": {
        "id": "S49Yxh72qz2d",
        "colab_type": "code",
        "colab": {
          "base_uri": "https://localhost:8080/",
          "height": 34
        },
        "outputId": "8c33a8fe-4870-4474-c365-63af5b237016"
      },
      "cell_type": "code",
      "source": [
        "x_train.shape, x_test.shape"
      ],
      "execution_count": 0,
      "outputs": [
        {
          "output_type": "execute_result",
          "data": {
            "text/plain": [
              "((8982,), (2246,))"
            ]
          },
          "metadata": {
            "tags": []
          },
          "execution_count": 7
        }
      ]
    }
  ]
}
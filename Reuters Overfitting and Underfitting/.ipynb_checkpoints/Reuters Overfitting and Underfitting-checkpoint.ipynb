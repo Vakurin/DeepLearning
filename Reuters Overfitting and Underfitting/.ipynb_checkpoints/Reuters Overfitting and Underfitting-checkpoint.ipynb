{
 "cells": [
  {
   "cell_type": "markdown",
   "metadata": {
    "colab_type": "text",
    "id": "nElf10hDsKO2"
   },
   "source": [
    "### Make sure we can used GPU"
   ]
  },
  {
   "cell_type": "code",
   "execution_count": 1,
   "metadata": {
    "colab": {
     "base_uri": "https://localhost:8080/",
     "height": 34
    },
    "colab_type": "code",
    "executionInfo": {
     "elapsed": 10381,
     "status": "ok",
     "timestamp": 1538316645529,
     "user": {
      "displayName": "максим вакурин",
      "photoUrl": "",
      "userId": "11172082525156924270"
     },
     "user_tz": -420
    },
    "id": "FEWunQfhqzSs",
    "outputId": "79fa038c-b905-4e1f-91b6-c0b944573675"
   },
   "outputs": [
    {
     "name": "stdout",
     "output_type": "stream",
     "text": [
      "Found GPU at: /device:GPU:0\n"
     ]
    }
   ],
   "source": [
    "import tensorflow as tf\n",
    "device_name = tf.test.gpu_device_name()\n",
    "if device_name != '/device:GPU:0':\n",
    "  raise SystemError('GPU device not found')\n",
    "print('Found GPU at: {}'.format(device_name))"
   ]
  },
  {
   "cell_type": "markdown",
   "metadata": {
    "colab_type": "text",
    "id": "NU-mQWn6sCBD"
   },
   "source": [
    "### Change Colab Directory"
   ]
  },
  {
   "cell_type": "code",
   "execution_count": 2,
   "metadata": {
    "colab": {
     "base_uri": "https://localhost:8080/",
     "height": 34
    },
    "colab_type": "code",
    "executionInfo": {
     "elapsed": 1099,
     "status": "ok",
     "timestamp": 1538316702952,
     "user": {
      "displayName": "максим вакурин",
      "photoUrl": "",
      "userId": "11172082525156924270"
     },
     "user_tz": -420
    },
    "id": "kLYvj0X7w2A0",
    "outputId": "387643e2-5a05-456c-f99a-41bf741830a9"
   },
   "outputs": [
    {
     "data": {
      "text/plain": [
       "'/content'"
      ]
     },
     "execution_count": 2,
     "metadata": {
      "tags": []
     },
     "output_type": "execute_result"
    }
   ],
   "source": [
    "pwd"
   ]
  },
  {
   "cell_type": "code",
   "execution_count": 3,
   "metadata": {
    "colab": {
     "base_uri": "https://localhost:8080/",
     "height": 122
    },
    "colab_type": "code",
    "executionInfo": {
     "elapsed": 25469,
     "status": "ok",
     "timestamp": 1538316729821,
     "user": {
      "displayName": "максим вакурин",
      "photoUrl": "",
      "userId": "11172082525156924270"
     },
     "user_tz": -420
    },
    "id": "fvG4kklhq8eY",
    "outputId": "687ef4cd-2f37-4641-ee75-71c5d9871c76",
    "scrolled": true
   },
   "outputs": [
    {
     "name": "stdout",
     "output_type": "stream",
     "text": [
      "Go to this URL in a browser: https://accounts.google.com/o/oauth2/auth?client_id=947318989803-6bn6qk8qdgf4n4g3pfee6491hc0brc4i.apps.googleusercontent.com&redirect_uri=urn%3Aietf%3Awg%3Aoauth%3A2.0%3Aoob&scope=email%20https%3A%2F%2Fwww.googleapis.com%2Fauth%2Fdocs.test%20https%3A%2F%2Fwww.googleapis.com%2Fauth%2Fdrive%20https%3A%2F%2Fwww.googleapis.com%2Fauth%2Fdrive.photos.readonly%20https%3A%2F%2Fwww.googleapis.com%2Fauth%2Fpeopleapi.readonly&response_type=code\n",
      "\n",
      "Enter your authorization code:\n",
      "··········\n",
      "Mounted at /content/drive\n"
     ]
    }
   ],
   "source": [
    "from google.colab import drive\n",
    "drive.mount('/content/drive')"
   ]
  },
  {
   "cell_type": "code",
   "execution_count": 4,
   "metadata": {
    "colab": {
     "base_uri": "https://localhost:8080/",
     "height": 34
    },
    "colab_type": "code",
    "executionInfo": {
     "elapsed": 920,
     "status": "ok",
     "timestamp": 1538316731486,
     "user": {
      "displayName": "максим вакурин",
      "photoUrl": "",
      "userId": "11172082525156924270"
     },
     "user_tz": -420
    },
    "id": "kr12qwBxrc9p",
    "outputId": "ed304b19-62fa-480c-d77e-574fe64d7c03"
   },
   "outputs": [
    {
     "name": "stdout",
     "output_type": "stream",
     "text": [
      "/content/drive/My Drive/DeepLearning/Colab Notebooks\n"
     ]
    }
   ],
   "source": [
    "cd drive/My Drive/DeepLearning/Colab Notebooks"
   ]
  },
  {
   "cell_type": "markdown",
   "metadata": {
    "colab_type": "text",
    "id": "8tyRexcms7sQ"
   },
   "source": [
    "### Import libraries"
   ]
  },
  {
   "cell_type": "code",
   "execution_count": 5,
   "metadata": {
    "colab": {
     "base_uri": "https://localhost:8080/",
     "height": 34
    },
    "colab_type": "code",
    "executionInfo": {
     "elapsed": 1125,
     "status": "ok",
     "timestamp": 1538316736502,
     "user": {
      "displayName": "максим вакурин",
      "photoUrl": "",
      "userId": "11172082525156924270"
     },
     "user_tz": -420
    },
    "id": "NQopYELLqjrA",
    "outputId": "b135e5ab-e97d-4939-d290-2aeaa4ebb45e",
    "scrolled": true
   },
   "outputs": [
    {
     "name": "stderr",
     "output_type": "stream",
     "text": [
      "Using TensorFlow backend.\n"
     ]
    }
   ],
   "source": [
    "import numpy as np\n",
    "from keras.datasets import reuters\n",
    "from keras import models\n",
    "from keras import layers\n",
    "import matplotlib.pyplot as plt"
   ]
  },
  {
   "cell_type": "markdown",
   "metadata": {
    "colab_type": "text",
    "id": "tSNWAFdLr7Qn"
   },
   "source": [
    "### Download data"
   ]
  },
  {
   "cell_type": "code",
   "execution_count": 6,
   "metadata": {
    "colab": {
     "base_uri": "https://localhost:8080/",
     "height": 51
    },
    "colab_type": "code",
    "executionInfo": {
     "elapsed": 2595,
     "status": "ok",
     "timestamp": 1538316742174,
     "user": {
      "displayName": "максим вакурин",
      "photoUrl": "",
      "userId": "11172082525156924270"
     },
     "user_tz": -420
    },
    "id": "fgz9aL_vs41z",
    "outputId": "45e1308d-d1f6-4e0f-9d22-d64342456ee2",
    "scrolled": true
   },
   "outputs": [
    {
     "name": "stdout",
     "output_type": "stream",
     "text": [
      "Downloading data from https://s3.amazonaws.com/text-datasets/reuters.npz\n",
      "2113536/2110848 [==============================] - 1s 0us/step\n"
     ]
    }
   ],
   "source": [
    "(x_train, y_train), (x_test, y_test) = reuters.load_data(num_words=10000)"
   ]
  },
  {
   "cell_type": "code",
   "execution_count": 7,
   "metadata": {
    "colab": {
     "base_uri": "https://localhost:8080/",
     "height": 34
    },
    "colab_type": "code",
    "executionInfo": {
     "elapsed": 1112,
     "status": "ok",
     "timestamp": 1538316744801,
     "user": {
      "displayName": "максим вакурин",
      "photoUrl": "",
      "userId": "11172082525156924270"
     },
     "user_tz": -420
    },
    "id": "S49Yxh72qz2d",
    "outputId": "8c33a8fe-4870-4474-c365-63af5b237016",
    "scrolled": true
   },
   "outputs": [
    {
     "data": {
      "text/plain": [
       "((8982,), (2246,))"
      ]
     },
     "execution_count": 7,
     "metadata": {
      "tags": []
     },
     "output_type": "execute_result"
    }
   ],
   "source": [
    "x_train.shape, x_test.shape"
   ]
  },
  {
   "cell_type": "code",
   "execution_count": 8,
   "metadata": {
    "colab": {
     "base_uri": "https://localhost:8080/",
     "height": 34
    },
    "colab_type": "code",
    "executionInfo": {
     "elapsed": 1091,
     "status": "ok",
     "timestamp": 1538316747812,
     "user": {
      "displayName": "максим вакурин",
      "photoUrl": "",
      "userId": "11172082525156924270"
     },
     "user_tz": -420
    },
    "id": "Y5fTUXEcwFqp",
    "outputId": "da59bfa4-9307-444e-eaa5-65e109fe070c"
   },
   "outputs": [
    {
     "data": {
      "text/plain": [
       "array([ 3, 16,  3,  3,  4,  4, 19,  8, 16,  3,  3])"
      ]
     },
     "execution_count": 8,
     "metadata": {
      "tags": []
     },
     "output_type": "execute_result"
    }
   ],
   "source": [
    "y_train[8:19]"
   ]
  },
  {
   "cell_type": "code",
   "execution_count": 0,
   "metadata": {
    "colab": {},
    "colab_type": "code",
    "id": "ft-U9SLMyJvo"
   },
   "outputs": [],
   "source": [
    "x_train[0]"
   ]
  },
  {
   "cell_type": "markdown",
   "metadata": {
    "colab_type": "text",
    "id": "yNWt_0XjxZpx"
   },
   "source": [
    "### We have array with news(x_train, x_test) and classification(labels) of this news (y_train, y_test)\n",
    "\n",
    "### 46 different  labels category"
   ]
  },
  {
   "cell_type": "markdown",
   "metadata": {
    "colab_type": "text",
    "id": "6JM9MtbauX4k"
   },
   "source": [
    "### Prepaing Data"
   ]
  },
  {
   "cell_type": "code",
   "execution_count": 0,
   "metadata": {
    "colab": {},
    "colab_type": "code",
    "id": "XGGsfqoLubFN"
   },
   "outputs": [],
   "source": [
    "def vectorize_sequences(sequences, dimension=10000):\n",
    "    # Create an all-zero matrix of shape (len(sequences), dimension)\n",
    "    results = np.zeros((len(sequences), dimension))\n",
    "    for i, sequence in enumerate(sequences):\n",
    "        results[i, sequence] = 1.  # set specific indices of results[i] to 1s\n",
    "    return results"
   ]
  },
  {
   "cell_type": "code",
   "execution_count": 0,
   "metadata": {
    "colab": {},
    "colab_type": "code",
    "id": "1CLC-uH6ucay"
   },
   "outputs": [],
   "source": [
    "# Our vectorized training data\n",
    "train_data = vectorize_sequences(x_train)\n",
    "# Our vectorized test data\n",
    "test_data = vectorize_sequences(x_test)"
   ]
  },
  {
   "cell_type": "code",
   "execution_count": 0,
   "metadata": {
    "colab": {},
    "colab_type": "code",
    "id": "kteuTUEQu3cv"
   },
   "outputs": [],
   "source": [
    "from keras.utils.np_utils import to_categorical\n",
    "\n",
    "one_hot_train_labels = to_categorical(y_train)\n",
    "one_hot_test_labels  = to_categorical(y_test)"
   ]
  },
  {
   "cell_type": "markdown",
   "metadata": {
    "colab_type": "text",
    "id": "IbCM5hT4vkgn"
   },
   "source": [
    "### Bulding NN"
   ]
  },
  {
   "cell_type": "code",
   "execution_count": 0,
   "metadata": {
    "colab": {},
    "colab_type": "code",
    "id": "BzifkZYHvnyg"
   },
   "outputs": [],
   "source": [
    "original_model = models.Sequential()\n",
    "original_model.add(layers.Dense(64, activation='relu', input_shape=(10000,)))\n",
    "original_model.add(layers.Dense(64, activation='relu'))\n",
    "original_model.add(layers.Dense(46, activation='softmax'))\n",
    "\n",
    "original_model.compile(optimizer='rmsprop',\n",
    "                       loss='categorical_crossentropy',\n",
    "                       metrics=['accuracy'])"
   ]
  },
  {
   "cell_type": "code",
   "execution_count": 0,
   "metadata": {
    "colab": {},
    "colab_type": "code",
    "id": "Ao1vRhU2y-Ms"
   },
   "outputs": [],
   "source": [
    "\n",
    "smaller_model = models.Sequential()\n",
    "smaller_model.add(layers.Dense(92, activation='relu', input_shape=(10000,)))\n",
    "smaller_model.add(layers.Dense(92, activation='relu'))\n",
    "smaller_model.add(layers.Dense(46, activation='softmax'))\n",
    "\n",
    "smaller_model.compile(optimizer='rmsprop',\n",
    "                      loss='categorical_crossentropy',\n",
    "                      metrics=['accuracy'])"
   ]
  },
  {
   "cell_type": "code",
   "execution_count": 0,
   "metadata": {
    "colab": {},
    "colab_type": "code",
    "id": "3SebpWYszKnz"
   },
   "outputs": [],
   "source": [
    "original_hist  = original_model.fit(train_data, one_hot_train_labels,\n",
    "                                   epochs=20,\n",
    "                                   batch_size=512,\n",
    "                                   validation_data=(test_data, one_hot_test_labels))"
   ]
  },
  {
   "cell_type": "code",
   "execution_count": 0,
   "metadata": {
    "colab": {},
    "colab_type": "code",
    "id": "wKIR7l3B0wx1"
   },
   "outputs": [],
   "source": [
    "smaller_model_hist = smaller_model.fit(train_data, one_hot_train_labels,\n",
    "                                       epochs=20,\n",
    "                                       batch_size=512,\n",
    "                                       validation_data=(test_data, one_hot_test_labels))"
   ]
  },
  {
   "cell_type": "code",
   "execution_count": 0,
   "metadata": {
    "colab": {},
    "colab_type": "code",
    "id": "ftkhf06H1E_6"
   },
   "outputs": [],
   "source": [
    "epochs = range(1, 21)\n",
    "original_val_loss = original_hist.history['val_loss']\n",
    "smaller_model_val_loss = smaller_model_hist.history['val_loss']"
   ]
  },
  {
   "cell_type": "code",
   "execution_count": 24,
   "metadata": {
    "colab": {
     "base_uri": "https://localhost:8080/",
     "height": 361
    },
    "colab_type": "code",
    "executionInfo": {
     "elapsed": 1392,
     "status": "ok",
     "timestamp": 1538317196752,
     "user": {
      "displayName": "максим вакурин",
      "photoUrl": "",
      "userId": "11172082525156924270"
     },
     "user_tz": -420
    },
    "id": "m6ripY3H1NVc",
    "outputId": "69f78767-5c47-4e35-e3fa-1c3200bdcc17"
   },
   "outputs": [
    {
     "data": {
      "image/png": "[encoded data removed]",
      "text/plain": [
       "<matplotlib.figure.Figure at 0x7f0e86ab6a58>"
      ]
     },
     "metadata": {
      "tags": []
     },
     "output_type": "display_data"
    }
   ],
   "source": [
    "import matplotlib.pyplot as plt\n",
    "\n",
    "# b+ is for \"blue cross\"\n",
    "plt.plot(epochs, original_val_loss, 'red', label='Original model')\n",
    "# \"bo\" is for \"blue dot\"\n",
    "plt.plot(epochs, smaller_model_val_loss, 'pink', label='Smaller model')\n",
    "plt.xlabel('Epochs')\n",
    "plt.ylabel('Validation loss')\n",
    "plt.legend()\n",
    "\n",
    "plt.show()\n"
   ]
  },
  {
   "cell_type": "code",
   "execution_count": 0,
   "metadata": {
    "colab": {},
    "colab_type": "code",
    "id": "xABKBKfY1Yso"
   },
   "outputs": [],
   "source": [
    "bigger_model  = models.Sequential()\n",
    "bigger_model.add(layers.Dense(512, activation='relu', input_shape=(10000,)))\n",
    "bigger_model.add(layers.Dense(512, activation='relu'))\n",
    "bigger_model.add(layers.Dense(46, activation='softmax'))\n",
    "\n",
    "bigger_model.compile(optimizer='rmsprop',\n",
    "                     loss='categorical_crossentropy',\n",
    "                     metrics=['acc'])"
   ]
  },
  {
   "cell_type": "code",
   "execution_count": 27,
   "metadata": {
    "colab": {
     "base_uri": "https://localhost:8080/",
     "height": 714
    },
    "colab_type": "code",
    "executionInfo": {
     "elapsed": 22712,
     "status": "ok",
     "timestamp": 1538317398739,
     "user": {
      "displayName": "максим вакурин",
      "photoUrl": "",
      "userId": "11172082525156924270"
     },
     "user_tz": -420
    },
    "id": "wYANq4fX29c3",
    "outputId": "eb627a2c-414a-41f4-da86-6e82e896d338"
   },
   "outputs": [
    {
     "name": "stdout",
     "output_type": "stream",
     "text": [
      "Train on 8982 samples, validate on 2246 samples\n",
      "Epoch 1/20\n",
      "8982/8982 [==============================] - 1s 155us/step - loss: 1.7777 - acc: 0.5952 - val_loss: 1.2235 - val_acc: 0.7146\n",
      "Epoch 2/20\n",
      "8982/8982 [==============================] - 1s 115us/step - loss: 0.8007 - acc: 0.8208 - val_loss: 0.9470 - val_acc: 0.7863\n",
      "Epoch 3/20\n",
      "8982/8982 [==============================] - 1s 120us/step - loss: 0.4794 - acc: 0.8916 - val_loss: 0.9116 - val_acc: 0.7965\n",
      "Epoch 4/20\n",
      "8982/8982 [==============================] - 1s 121us/step - loss: 0.3132 - acc: 0.9259 - val_loss: 0.9175 - val_acc: 0.7947\n",
      "Epoch 5/20\n",
      "8982/8982 [==============================] - 1s 120us/step - loss: 0.2090 - acc: 0.9462 - val_loss: 1.0244 - val_acc: 0.7867\n",
      "Epoch 6/20\n",
      "8982/8982 [==============================] - 1s 118us/step - loss: 0.1811 - acc: 0.9511 - val_loss: 0.9387 - val_acc: 0.8023\n",
      "Epoch 7/20\n",
      "8982/8982 [==============================] - 1s 119us/step - loss: 0.1635 - acc: 0.9520 - val_loss: 1.0307 - val_acc: 0.7939\n",
      "Epoch 8/20\n",
      "8982/8982 [==============================] - 1s 120us/step - loss: 0.1598 - acc: 0.9483 - val_loss: 0.9809 - val_acc: 0.8032\n",
      "Epoch 9/20\n",
      "8982/8982 [==============================] - 1s 115us/step - loss: 0.1231 - acc: 0.9529 - val_loss: 1.0870 - val_acc: 0.7943\n",
      "Epoch 10/20\n",
      "8982/8982 [==============================] - 1s 117us/step - loss: 0.1265 - acc: 0.9519 - val_loss: 1.1715 - val_acc: 0.7916\n",
      "Epoch 11/20\n",
      "8982/8982 [==============================] - 1s 117us/step - loss: 0.1182 - acc: 0.9527 - val_loss: 1.0646 - val_acc: 0.8014\n",
      "Epoch 12/20\n",
      "8982/8982 [==============================] - 1s 117us/step - loss: 0.1081 - acc: 0.9536 - val_loss: 1.2417 - val_acc: 0.7872\n",
      "Epoch 13/20\n",
      "8982/8982 [==============================] - 1s 118us/step - loss: 0.1071 - acc: 0.9526 - val_loss: 1.2182 - val_acc: 0.7881\n",
      "Epoch 14/20\n",
      "8982/8982 [==============================] - 1s 116us/step - loss: 0.0999 - acc: 0.9528 - val_loss: 1.2210 - val_acc: 0.7965\n",
      "Epoch 15/20\n",
      "8982/8982 [==============================] - 1s 118us/step - loss: 0.0916 - acc: 0.9539 - val_loss: 1.2473 - val_acc: 0.8014\n",
      "Epoch 16/20\n",
      "8982/8982 [==============================] - 1s 120us/step - loss: 0.0899 - acc: 0.9515 - val_loss: 1.3989 - val_acc: 0.7854\n",
      "Epoch 17/20\n",
      "8982/8982 [==============================] - 1s 118us/step - loss: 0.0851 - acc: 0.9523 - val_loss: 1.4126 - val_acc: 0.7890\n",
      "Epoch 18/20\n",
      "8982/8982 [==============================] - 1s 116us/step - loss: 0.0828 - acc: 0.9550 - val_loss: 1.5033 - val_acc: 0.7863\n",
      "Epoch 19/20\n",
      "8982/8982 [==============================] - 1s 118us/step - loss: 0.0813 - acc: 0.9546 - val_loss: 1.5344 - val_acc: 0.7818\n",
      "Epoch 20/20\n",
      "8982/8982 [==============================] - 1s 120us/step - loss: 0.0770 - acc: 0.9567 - val_loss: 1.5557 - val_acc: 0.7916\n"
     ]
    }
   ],
   "source": [
    "bigger_model_hist = bigger_model.fit(train_data, one_hot_train_labels,\n",
    "                                       epochs=20,\n",
    "                                       batch_size=512,\n",
    "                                       validation_data=(test_data, one_hot_test_labels))"
   ]
  },
  {
   "cell_type": "code",
   "execution_count": 0,
   "metadata": {
    "colab": {},
    "colab_type": "code",
    "id": "iHo-I45_3WfH"
   },
   "outputs": [],
   "source": [
    "bigger_model_val_loss = bigger_model_hist.history['val_loss']"
   ]
  },
  {
   "cell_type": "code",
   "execution_count": 30,
   "metadata": {
    "colab": {
     "base_uri": "https://localhost:8080/",
     "height": 361
    },
    "colab_type": "code",
    "executionInfo": {
     "elapsed": 1791,
     "status": "ok",
     "timestamp": 1538317509041,
     "user": {
      "displayName": "максим вакурин",
      "photoUrl": "",
      "userId": "11172082525156924270"
     },
     "user_tz": -420
    },
    "id": "XFXa4Oug3FnH",
    "outputId": "4f162077-e367-434b-86a4-dbe97182c28c"
   },
   "outputs": [
    {
     "data": {
      "image/png": "[encoded data removed]",
      "text/plain": [
       "<matplotlib.figure.Figure at 0x7f0e86cd2ba8>"
      ]
     },
     "metadata": {
      "tags": []
     },
     "output_type": "display_data"
    }
   ],
   "source": [
    "import matplotlib.pyplot as plt\n",
    "\n",
    "# b+ is for \"blue cross\"\n",
    "plt.plot(epochs, original_val_loss, 'red', label='Original model')\n",
    "# \"bo\" is for \"blue dot\"\n",
    "plt.plot(epochs, smaller_model_val_loss, 'pink', label='Smaller model')\n",
    "# \"Bigger\" model \n",
    "plt.plot(epochs, bigger_model_val_loss, 'blue', label='Bigger model')\n",
    "plt.xlabel('Epochs')\n",
    "plt.ylabel('Validation loss')\n",
    "plt.legend()\n",
    "\n",
    "plt.show()"
   ]
  },
  {
   "cell_type": "markdown",
   "metadata": {
    "colab_type": "text",
    "id": "BId66gF16WXl"
   },
   "source": [
    "### Smaller model - overfitting after 7 epochs\n",
    "### Origin model - overfitting after 3 epochs, but it not usefull model\n",
    "### Bigger model - overfitting after 4 epochs"
   ]
  },
  {
   "cell_type": "code",
   "execution_count": 34,
   "metadata": {
    "colab": {
     "base_uri": "https://localhost:8080/",
     "height": 34
    },
    "colab_type": "code",
    "executionInfo": {
     "elapsed": 1128,
     "status": "ok",
     "timestamp": 1538317809333,
     "user": {
      "displayName": "максим вакурин",
      "photoUrl": "",
      "userId": "11172082525156924270"
     },
     "user_tz": -420
    },
    "id": "ffXwhU1O3iAy",
    "outputId": "026db422-8640-44c4-afdb-93a033eaa214"
   },
   "outputs": [
    {
     "name": "stdout",
     "output_type": "stream",
     "text": [
      "dict_keys(['val_loss', 'val_acc', 'loss', 'acc'])\n"
     ]
    }
   ],
   "source": [
    "# list all data in history\n",
    "print(bigger_model_hist.history.keys())"
   ]
  },
  {
   "cell_type": "code",
   "execution_count": 0,
   "metadata": {
    "colab": {},
    "colab_type": "code",
    "id": "1QhAuvYa4R0O"
   },
   "outputs": [],
   "source": [
    "original_train_loss = original_hist.history['loss']\n",
    "bigger_model_train_loss = bigger_model_hist.history['loss']\n",
    "small_model_train_loss = smaller_model_hist.history['loss']"
   ]
  },
  {
   "cell_type": "code",
   "execution_count": 42,
   "metadata": {
    "colab": {
     "base_uri": "https://localhost:8080/",
     "height": 361
    },
    "colab_type": "code",
    "executionInfo": {
     "elapsed": 1144,
     "status": "ok",
     "timestamp": 1538318464942,
     "user": {
      "displayName": "максим вакурин",
      "photoUrl": "",
      "userId": "11172082525156924270"
     },
     "user_tz": -420
    },
    "id": "2Um3FypL5eAy",
    "outputId": "91ed33bb-62f0-4edd-89cc-6b59df8677c0"
   },
   "outputs": [
    {
     "data": {
      "image/png": "[encoded data removed]",
      "text/plain": [
       "<matplotlib.figure.Figure at 0x7f0e87d3c908>"
      ]
     },
     "metadata": {
      "tags": []
     },
     "output_type": "display_data"
    }
   ],
   "source": [
    "plt.plot(epochs, original_train_loss, 'ro', label='Original model')\n",
    "plt.plot(epochs, bigger_model_train_loss, 'bo', label='Bigger model')\n",
    "plt.plot(epochs, small_model_train_loss, 'go', label='Small model')\n",
    "plt.xlabel('Epochs')\n",
    "plt.ylabel('Training loss')\n",
    "plt.legend()\n",
    "\n",
    "plt.show()"
   ]
  },
  {
   "cell_type": "markdown",
   "metadata": {
    "colab_type": "text",
    "id": "igL70j1R8cIn"
   },
   "source": [
    "l2(0.001) means that every coefficient in the weight matrix of the layer will add 0.001 * weight_coefficient_value to the total loss of the network"
   ]
  },
  {
   "cell_type": "code",
   "execution_count": 0,
   "metadata": {
    "colab": {},
    "colab_type": "code",
    "id": "nDPHeYJA7biI"
   },
   "outputs": [],
   "source": [
    "from keras import regularizers\n",
    "L2_model  = models.Sequential()\n",
    "L2_model.add(layers.Dense(92, kernel_regularizer=regularizers.l2(0.0001) ,activation='relu', input_shape=(10000,)))\n",
    "L2_model.add(layers.Dense(92, kernel_regularizer=regularizers.l2(0.0001) ,activation='relu'))\n",
    "L2_model.add(layers.Dense(46, activation='softmax'))\n",
    "\n",
    "L2_model.compile(optimizer='rmsprop',\n",
    "                     loss='categorical_crossentropy',\n",
    "                     metrics=['acc'])"
   ]
  },
  {
   "cell_type": "code",
   "execution_count": 59,
   "metadata": {
    "colab": {
     "base_uri": "https://localhost:8080/",
     "height": 714
    },
    "colab_type": "code",
    "executionInfo": {
     "elapsed": 18784,
     "status": "ok",
     "timestamp": 1538319499394,
     "user": {
      "displayName": "максим вакурин",
      "photoUrl": "",
      "userId": "11172082525156924270"
     },
     "user_tz": -420
    },
    "id": "3fl4uNbE55Bb",
    "outputId": "9d068696-403b-4fac-e208-b42ef9c8c451"
   },
   "outputs": [
    {
     "name": "stdout",
     "output_type": "stream",
     "text": [
      "Train on 8982 samples, validate on 2246 samples\n",
      "Epoch 1/20\n",
      "8982/8982 [==============================] - 1s 132us/step - loss: 2.2454 - acc: 0.5770 - val_loss: 1.4843 - val_acc: 0.6790\n",
      "Epoch 2/20\n",
      "8982/8982 [==============================] - 1s 87us/step - loss: 1.1851 - acc: 0.7489 - val_loss: 1.2162 - val_acc: 0.7329\n",
      "Epoch 3/20\n",
      "8982/8982 [==============================] - 1s 94us/step - loss: 0.8766 - acc: 0.8170 - val_loss: 1.1181 - val_acc: 0.7547\n",
      "Epoch 4/20\n",
      "8982/8982 [==============================] - 1s 97us/step - loss: 0.6719 - acc: 0.8647 - val_loss: 1.0713 - val_acc: 0.7658\n",
      "Epoch 5/20\n",
      "8982/8982 [==============================] - 1s 96us/step - loss: 0.5313 - acc: 0.8981 - val_loss: 0.9697 - val_acc: 0.7903\n",
      "Epoch 6/20\n",
      "8982/8982 [==============================] - 1s 96us/step - loss: 0.4279 - acc: 0.9185 - val_loss: 0.9847 - val_acc: 0.7921\n",
      "Epoch 7/20\n",
      "8982/8982 [==============================] - 1s 97us/step - loss: 0.3529 - acc: 0.9331 - val_loss: 0.9816 - val_acc: 0.7916\n",
      "Epoch 8/20\n",
      "8982/8982 [==============================] - 1s 95us/step - loss: 0.3061 - acc: 0.9405 - val_loss: 1.0946 - val_acc: 0.7663\n",
      "Epoch 9/20\n",
      "8982/8982 [==============================] - 1s 96us/step - loss: 0.2755 - acc: 0.9467 - val_loss: 1.0117 - val_acc: 0.7872\n",
      "Epoch 10/20\n",
      "8982/8982 [==============================] - 1s 97us/step - loss: 0.2549 - acc: 0.9482 - val_loss: 0.9896 - val_acc: 0.7996\n",
      "Epoch 11/20\n",
      "8982/8982 [==============================] - 1s 95us/step - loss: 0.2335 - acc: 0.9520 - val_loss: 1.0561 - val_acc: 0.7832\n",
      "Epoch 12/20\n",
      "8982/8982 [==============================] - 1s 97us/step - loss: 0.2208 - acc: 0.9525 - val_loss: 1.0224 - val_acc: 0.8014\n",
      "Epoch 13/20\n",
      "8982/8982 [==============================] - 1s 97us/step - loss: 0.2162 - acc: 0.9520 - val_loss: 1.0672 - val_acc: 0.7845\n",
      "Epoch 14/20\n",
      "8982/8982 [==============================] - 1s 96us/step - loss: 0.2066 - acc: 0.9519 - val_loss: 1.0902 - val_acc: 0.7907\n",
      "Epoch 15/20\n",
      "8982/8982 [==============================] - 1s 97us/step - loss: 0.2026 - acc: 0.9536 - val_loss: 1.0727 - val_acc: 0.7876\n",
      "Epoch 16/20\n",
      "8982/8982 [==============================] - 1s 98us/step - loss: 0.1994 - acc: 0.9538 - val_loss: 1.0808 - val_acc: 0.7903\n",
      "Epoch 17/20\n",
      "8982/8982 [==============================] - 1s 96us/step - loss: 0.1922 - acc: 0.9548 - val_loss: 1.1009 - val_acc: 0.7814\n",
      "Epoch 18/20\n",
      "8982/8982 [==============================] - 1s 97us/step - loss: 0.1866 - acc: 0.9557 - val_loss: 1.0344 - val_acc: 0.8072\n",
      "Epoch 19/20\n",
      "8982/8982 [==============================] - 1s 97us/step - loss: 0.1879 - acc: 0.9547 - val_loss: 1.0396 - val_acc: 0.8028\n",
      "Epoch 20/20\n",
      "8982/8982 [==============================] - 1s 96us/step - loss: 0.1824 - acc: 0.9545 - val_loss: 1.0952 - val_acc: 0.7827\n"
     ]
    }
   ],
   "source": [
    "L2_model_hist = L2_model.fit(train_data, one_hot_train_labels,\n",
    "                                       epochs=20,\n",
    "                                       batch_size=512,\n",
    "                                       validation_data=(test_data, one_hot_test_labels))"
   ]
  },
  {
   "cell_type": "code",
   "execution_count": 0,
   "metadata": {
    "colab": {},
    "colab_type": "code",
    "id": "Jzczs2i-9G_D"
   },
   "outputs": [],
   "source": [
    "L2_model_val_loss = L2_model_hist.history['val_loss']"
   ]
  },
  {
   "cell_type": "code",
   "execution_count": 62,
   "metadata": {
    "colab": {
     "base_uri": "https://localhost:8080/",
     "height": 376
    },
    "colab_type": "code",
    "executionInfo": {
     "elapsed": 1894,
     "status": "ok",
     "timestamp": 1538319606663,
     "user": {
      "displayName": "максим вакурин",
      "photoUrl": "",
      "userId": "11172082525156924270"
     },
     "user_tz": -420
    },
    "id": "CC7O98Ho_KK0",
    "outputId": "c9ba59be-6643-4100-f811-0b529dcb221d"
   },
   "outputs": [
    {
     "data": {
      "image/png": "[encoded data removed]",
      "text/plain": [
       "<matplotlib.figure.Figure at 0x7f0e86325780>"
      ]
     },
     "metadata": {
      "tags": []
     },
     "output_type": "display_data"
    }
   ],
   "source": [
    "#than with L2 regulazation = 0.0001\n",
    "plt.plot(epochs, smaller_model_val_loss, 'pink', label='Original Coef Model (Smaller Model)')\n",
    "plt.plot(epochs, L2_model_val_loss, 'black', label='L2 Model')\n",
    "plt.xlabel('Epochs')\n",
    "plt.ylabel('Validation loss')\n",
    "plt.legend()\n",
    "plt.title('L2 = 0.0001')\n",
    "\n",
    "plt.show()"
   ]
  },
  {
   "cell_type": "code",
   "execution_count": 57,
   "metadata": {
    "colab": {
     "base_uri": "https://localhost:8080/",
     "height": 361
    },
    "colab_type": "code",
    "executionInfo": {
     "elapsed": 1266,
     "status": "ok",
     "timestamp": 1538319342388,
     "user": {
      "displayName": "максим вакурин",
      "photoUrl": "",
      "userId": "11172082525156924270"
     },
     "user_tz": -420
    },
    "id": "TI8AxmT09QX_",
    "outputId": "b2152141-e8ca-49f6-f460-3fcb10ff6823"
   },
   "outputs": [
    {
     "data": {
      "image/png": "[encoded data removed]",
      "text/plain": [
       "<matplotlib.figure.Figure at 0x7f0e86342ac8>"
      ]
     },
     "metadata": {
      "tags": []
     },
     "output_type": "display_data"
    }
   ],
   "source": [
    "#Our original model better, than with L2 regulazation = 0.05\n",
    "plt.plot(epochs, smaller_model_val_loss, 'pink', label='Original Coef Model (Smaller Model)')\n",
    "plt.plot(epochs, L2_model_val_loss, 'black', label='L2 Model')\n",
    "plt.xlabel('Epochs')\n",
    "plt.ylabel('Validation loss')\n",
    "plt.legend()\n",
    "\n",
    "plt.show()"
   ]
  },
  {
   "cell_type": "code",
   "execution_count": 0,
   "metadata": {
    "colab": {},
    "colab_type": "code",
    "id": "SQn98PIE9k0R"
   },
   "outputs": [],
   "source": [
    "# L1 regularization\n",
    "regularizers.l1(0.001)\n",
    "\n",
    "# L1 and L2 regularization at the same time\n",
    "regularizers.l1_l2(l1=0.001, l2=0.001)"
   ]
  },
  {
   "cell_type": "markdown",
   "metadata": {
    "colab_type": "text",
    "id": "HZA-lT8eBSUn"
   },
   "source": [
    "### Dropout is one of the most effective and most commonly used regularization techniques for neural networks"
   ]
  },
  {
   "cell_type": "markdown",
   "metadata": {
    "colab_type": "text",
    "id": "iyhmcTjsBjHQ"
   },
   "source": [
    "Прореживание заключается в удалении(присваивании нуля) случайного числа в матрице.\n",
    "\n",
    "Коэф выбирается обычно от 0,2 до 0,5. \n",
    "В данном примере обнуляем 50% признаков."
   ]
  },
  {
   "cell_type": "code",
   "execution_count": 0,
   "metadata": {
    "colab": {},
    "colab_type": "code",
    "id": "Ts7_WDUxAHSW"
   },
   "outputs": [],
   "source": [
    "dpt_model = models.Sequential()\n",
    "dpt_model.add(layers.Dense(92, activation='relu', input_shape=(10000,)))\n",
    "dpt_model.add(layers.Dropout(0.5))\n",
    "dpt_model.add(layers.Dense(92, activation='relu'))\n",
    "dpt_model.add(layers.Dropout(0.5))\n",
    "dpt_model.add(layers.Dense(46, activation='softmax'))\n",
    "\n",
    "dpt_model.compile(optimizer='rmsprop',\n",
    "                  loss='categorical_crossentropy',\n",
    "                  metrics=['acc'])"
   ]
  },
  {
   "cell_type": "code",
   "execution_count": 64,
   "metadata": {
    "colab": {
     "base_uri": "https://localhost:8080/",
     "height": 714
    },
    "colab_type": "code",
    "executionInfo": {
     "elapsed": 19038,
     "status": "ok",
     "timestamp": 1538319867023,
     "user": {
      "displayName": "максим вакурин",
      "photoUrl": "",
      "userId": "11172082525156924270"
     },
     "user_tz": -420
    },
    "id": "LeZmZ-pGAY15",
    "outputId": "336e6f14-caed-4b9d-f88f-de2267b148af"
   },
   "outputs": [
    {
     "name": "stdout",
     "output_type": "stream",
     "text": [
      "Train on 8982 samples, validate on 2246 samples\n",
      "Epoch 1/20\n",
      "8982/8982 [==============================] - 1s 133us/step - loss: 2.7165 - acc: 0.4195 - val_loss: 1.7363 - val_acc: 0.6184\n",
      "Epoch 2/20\n",
      "8982/8982 [==============================] - 1s 94us/step - loss: 1.7303 - acc: 0.6057 - val_loss: 1.4563 - val_acc: 0.6732\n",
      "Epoch 3/20\n",
      "8982/8982 [==============================] - 1s 99us/step - loss: 1.4621 - acc: 0.6568 - val_loss: 1.3288 - val_acc: 0.6959\n",
      "Epoch 4/20\n",
      "8982/8982 [==============================] - 1s 98us/step - loss: 1.3004 - acc: 0.6982 - val_loss: 1.2443 - val_acc: 0.7142\n",
      "Epoch 5/20\n",
      "8982/8982 [==============================] - 1s 99us/step - loss: 1.1763 - acc: 0.7206 - val_loss: 1.1903 - val_acc: 0.7311\n",
      "Epoch 6/20\n",
      "8982/8982 [==============================] - 1s 98us/step - loss: 1.0605 - acc: 0.7496 - val_loss: 1.1429 - val_acc: 0.7453\n",
      "Epoch 7/20\n",
      "8982/8982 [==============================] - 1s 99us/step - loss: 0.9769 - acc: 0.7676 - val_loss: 1.1010 - val_acc: 0.7578\n",
      "Epoch 8/20\n",
      "8982/8982 [==============================] - 1s 98us/step - loss: 0.9103 - acc: 0.7886 - val_loss: 1.0800 - val_acc: 0.7636\n",
      "Epoch 9/20\n",
      "8982/8982 [==============================] - 1s 99us/step - loss: 0.8370 - acc: 0.8014 - val_loss: 1.0577 - val_acc: 0.7694\n",
      "Epoch 10/20\n",
      "8982/8982 [==============================] - 1s 98us/step - loss: 0.7821 - acc: 0.8097 - val_loss: 1.0412 - val_acc: 0.7769\n",
      "Epoch 11/20\n",
      "8982/8982 [==============================] - 1s 98us/step - loss: 0.7256 - acc: 0.8262 - val_loss: 1.0318 - val_acc: 0.7809\n",
      "Epoch 12/20\n",
      "8982/8982 [==============================] - 1s 98us/step - loss: 0.6716 - acc: 0.8341 - val_loss: 1.0318 - val_acc: 0.7841\n",
      "Epoch 13/20\n",
      "8982/8982 [==============================] - 1s 98us/step - loss: 0.6330 - acc: 0.8444 - val_loss: 1.0413 - val_acc: 0.7832\n",
      "Epoch 14/20\n",
      "8982/8982 [==============================] - 1s 99us/step - loss: 0.5982 - acc: 0.8514 - val_loss: 1.0522 - val_acc: 0.7836\n",
      "Epoch 15/20\n",
      "8982/8982 [==============================] - 1s 99us/step - loss: 0.5546 - acc: 0.8587 - val_loss: 1.0473 - val_acc: 0.7898\n",
      "Epoch 16/20\n",
      "8982/8982 [==============================] - 1s 98us/step - loss: 0.5307 - acc: 0.8712 - val_loss: 1.0620 - val_acc: 0.7881\n",
      "Epoch 17/20\n",
      "8982/8982 [==============================] - 1s 97us/step - loss: 0.4991 - acc: 0.8712 - val_loss: 1.0798 - val_acc: 0.7898\n",
      "Epoch 18/20\n",
      "8982/8982 [==============================] - 1s 98us/step - loss: 0.4768 - acc: 0.8793 - val_loss: 1.0861 - val_acc: 0.7952\n",
      "Epoch 19/20\n",
      "8982/8982 [==============================] - 1s 97us/step - loss: 0.4531 - acc: 0.8854 - val_loss: 1.0825 - val_acc: 0.7939\n",
      "Epoch 20/20\n",
      "8982/8982 [==============================] - 1s 99us/step - loss: 0.4318 - acc: 0.8867 - val_loss: 1.1012 - val_acc: 0.7974\n"
     ]
    }
   ],
   "source": [
    "dpt_model_hist = dpt_model.fit(train_data, one_hot_train_labels,\n",
    "                                       epochs=20,\n",
    "                                       batch_size=512,\n",
    "                                       validation_data=(test_data, one_hot_test_labels))"
   ]
  },
  {
   "cell_type": "code",
   "execution_count": 0,
   "metadata": {
    "colab": {},
    "colab_type": "code",
    "id": "gEdNIwbFAhHT"
   },
   "outputs": [],
   "source": [
    "dpt_model_hist_history = dpt_model_hist.history['val_loss']"
   ]
  },
  {
   "cell_type": "code",
   "execution_count": 66,
   "metadata": {
    "colab": {
     "base_uri": "https://localhost:8080/",
     "height": 376
    },
    "colab_type": "code",
    "executionInfo": {
     "elapsed": 1082,
     "status": "ok",
     "timestamp": 1538320030744,
     "user": {
      "displayName": "максим вакурин",
      "photoUrl": "",
      "userId": "11172082525156924270"
     },
     "user_tz": -420
    },
    "id": "UUOBxLbNAxqJ",
    "outputId": "33556873-aff0-43ee-dab2-440912c4179e"
   },
   "outputs": [
    {
     "data": {
      "image/png": "[encoded data removed]",
      "text/plain": [
       "<matplotlib.figure.Figure at 0x7f0e860179b0>"
      ]
     },
     "metadata": {
      "tags": []
     },
     "output_type": "display_data"
    }
   ],
   "source": [
    "plt.plot(epochs, smaller_model_val_loss, 'pink', label='Original Coef Model (Smaller Model)')\n",
    "plt.plot(epochs, L2_model_val_loss, 'black', label='L2 Model')\n",
    "plt.plot(epochs, dpt_model_hist_history, 'green', label='DPT Model')\n",
    "plt.xlabel('Epochs')\n",
    "plt.ylabel('Validation loss')\n",
    "plt.legend()\n",
    "plt.title('50% Dropout')\n",
    "\n",
    "plt.show()"
   ]
  },
  {
   "cell_type": "markdown",
   "metadata": {
    "colab_type": "text",
    "id": "OWoMFOkVEEF9"
   },
   "source": [
    "### Save Our Model"
   ]
  },
  {
   "cell_type": "code",
   "execution_count": 0,
   "metadata": {
    "colab": {},
    "colab_type": "code",
    "id": "tbsrN6CUEQLF"
   },
   "outputs": [],
   "source": [
    "import os #It shoud be in header :)"
   ]
  },
  {
   "cell_type": "code",
   "execution_count": 67,
   "metadata": {
    "colab": {
     "base_uri": "https://localhost:8080/",
     "height": 34
    },
    "colab_type": "code",
    "executionInfo": {
     "elapsed": 1149,
     "status": "ok",
     "timestamp": 1538320464568,
     "user": {
      "displayName": "максим вакурин",
      "photoUrl": "",
      "userId": "11172082525156924270"
     },
     "user_tz": -420
    },
    "id": "NHmr8Wk8C1d2",
    "outputId": "4453e024-b0ab-4d5f-ab04-ff762ba1a65d"
   },
   "outputs": [
    {
     "data": {
      "text/plain": [
       "'/content/drive/My Drive/DeepLearning/Colab Notebooks'"
      ]
     },
     "execution_count": 67,
     "metadata": {
      "tags": []
     },
     "output_type": "execute_result"
    }
   ],
   "source": [
    "pwd"
   ]
  },
  {
   "cell_type": "code",
   "execution_count": 0,
   "metadata": {
    "colab": {},
    "colab_type": "code",
    "id": "wJ1loxkVC4ck"
   },
   "outputs": [],
   "source": [
    "path = 'model_weight/'"
   ]
  },
  {
   "cell_type": "code",
   "execution_count": 0,
   "metadata": {
    "colab": {},
    "colab_type": "code",
    "id": "aGVlOFNJBNd8"
   },
   "outputs": [],
   "source": [
    "L2_model.save(os.path.join(path, 'L2_model.h5'))"
   ]
  },
  {
   "cell_type": "code",
   "execution_count": 0,
   "metadata": {
    "colab": {},
    "colab_type": "code",
    "id": "yVwe7XJGGYSx"
   },
   "outputs": [],
   "source": [
    "dpt_model.save(os.path.join(path, 'DPT_model.h5'))"
   ]
  },
  {
   "cell_type": "code",
   "execution_count": 0,
   "metadata": {
    "colab": {},
    "colab_type": "code",
    "id": "3THmwQvkGrgM"
   },
   "outputs": [],
   "source": [
    "smaller_model.save(os.path.join(path, 'smaller_model.h5'))"
   ]
  },
  {
   "cell_type": "code",
   "execution_count": 74,
   "metadata": {
    "colab": {
     "base_uri": "https://localhost:8080/",
     "height": 34
    },
    "colab_type": "code",
    "executionInfo": {
     "elapsed": 1192,
     "status": "ok",
     "timestamp": 1538320967823,
     "user": {
      "displayName": "максим вакурин",
      "photoUrl": "",
      "userId": "11172082525156924270"
     },
     "user_tz": -420
    },
    "id": "qsz1fhecEwfc",
    "outputId": "bc95ea75-e8b3-4bea-d0ea-ce55d852b1b7"
   },
   "outputs": [
    {
     "data": {
      "text/plain": [
       "keras.callbacks.History"
      ]
     },
     "execution_count": 74,
     "metadata": {
      "tags": []
     },
     "output_type": "execute_result"
    }
   ],
   "source": [
    "type(L2_model_hist)"
   ]
  },
  {
   "cell_type": "markdown",
   "metadata": {
    "colab_type": "text",
    "id": "0N0Jg65fG-Ns"
   },
   "source": [
    "### Load Model "
   ]
  },
  {
   "cell_type": "code",
   "execution_count": 0,
   "metadata": {
    "colab": {},
    "colab_type": "code",
    "id": "8Ge4_IF0Dp0o"
   },
   "outputs": [],
   "source": [
    "from keras.models import load_model\n",
    "model_L2 = load_model(os.path.join(path, 'L2_model.h5'))"
   ]
  },
  {
   "cell_type": "code",
   "execution_count": 77,
   "metadata": {
    "colab": {
     "base_uri": "https://localhost:8080/",
     "height": 34
    },
    "colab_type": "code",
    "executionInfo": {
     "elapsed": 754,
     "status": "ok",
     "timestamp": 1538321013732,
     "user": {
      "displayName": "максим вакурин",
      "photoUrl": "",
      "userId": "11172082525156924270"
     },
     "user_tz": -420
    },
    "id": "0BM-oFBtE3W_",
    "outputId": "17869d70-9d31-41f3-b85c-f0c81cfc06ee"
   },
   "outputs": [
    {
     "data": {
      "text/plain": [
       "keras.models.Sequential"
      ]
     },
     "execution_count": 77,
     "metadata": {
      "tags": []
     },
     "output_type": "execute_result"
    }
   ],
   "source": [
    "type(model_L2)"
   ]
  },
  {
   "cell_type": "markdown",
   "metadata": {
    "colab_type": "text",
    "id": "FFxamjf9G1a3"
   },
   "source": [
    "### Download Files On Computer"
   ]
  },
  {
   "cell_type": "code",
   "execution_count": 0,
   "metadata": {
    "colab": {},
    "colab_type": "code",
    "id": "9dqjPDv1FJWN"
   },
   "outputs": [],
   "source": [
    "from google.colab import files\n",
    "files.download(\"model_weight/L2_model.h5\")"
   ]
  }
 ],
 "metadata": {
  "accelerator": "GPU",
  "colab": {
   "collapsed_sections": [],
   "name": "Reuters Overfitting and Underfitting.ipynb",
   "provenance": [],
   "version": "0.3.2"
  },
  "kernelspec": {
   "display_name": "Python 3",
   "language": "python",
   "name": "python3"
  },
  "language_info": {
   "codemirror_mode": {
    "name": "ipython",
    "version": 3
   },
   "file_extension": ".py",
   "mimetype": "text/x-python",
   "name": "python",
   "nbconvert_exporter": "python",
   "pygments_lexer": "ipython3",
   "version": "3.6.4"
  }
 },
 "nbformat": 4,
 "nbformat_minor": 1
}

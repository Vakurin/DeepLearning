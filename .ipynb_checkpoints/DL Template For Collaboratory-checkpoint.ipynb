{
 "cells": [
  {
   "cell_type": "markdown",
   "metadata": {
    "colab_type": "text",
    "id": "nElf10hDsKO2"
   },
   "source": [
    "### Make sure we can used GPU"
   ]
  },
  {
   "cell_type": "code",
   "execution_count": 1,
   "metadata": {
    "colab": {
     "base_uri": "https://localhost:8080/",
     "height": 34
    },
    "colab_type": "code",
    "executionInfo": {
     "elapsed": 10381,
     "status": "ok",
     "timestamp": 1538316645529,
     "user": {
      "displayName": "максим вакурин",
      "photoUrl": "",
      "userId": "11172082525156924270"
     },
     "user_tz": -420
    },
    "id": "FEWunQfhqzSs",
    "outputId": "79fa038c-b905-4e1f-91b6-c0b944573675"
   },
   "outputs": [
    {
     "name": "stdout",
     "output_type": "stream",
     "text": [
      "Found GPU at: /device:GPU:0\n"
     ]
    }
   ],
   "source": [
    "import tensorflow as tf\n",
    "device_name = tf.test.gpu_device_name()\n",
    "if device_name != '/device:GPU:0':\n",
    "  raise SystemError('GPU device not found')\n",
    "print('Found GPU at: {}'.format(device_name))"
   ]
  },
  {
   "cell_type": "markdown",
   "metadata": {
    "colab_type": "text",
    "id": "8tyRexcms7sQ"
   },
   "source": [
    "### Import libraries"
   ]
  },
  {
   "cell_type": "code",
   "execution_count": 5,
   "metadata": {
    "colab": {
     "base_uri": "https://localhost:8080/",
     "height": 34
    },
    "colab_type": "code",
    "executionInfo": {
     "elapsed": 1125,
     "status": "ok",
     "timestamp": 1538316736502,
     "user": {
      "displayName": "максим вакурин",
      "photoUrl": "",
      "userId": "11172082525156924270"
     },
     "user_tz": -420
    },
    "id": "NQopYELLqjrA",
    "outputId": "b135e5ab-e97d-4939-d290-2aeaa4ebb45e",
    "scrolled": true
   },
   "outputs": [
    {
     "name": "stderr",
     "output_type": "stream",
     "text": [
      "Using TensorFlow backend.\n"
     ]
    }
   ],
   "source": [
    "import numpy as np\n",
    "import os\n",
    "from keras.datasets import reuters\n",
    "from keras import models\n",
    "from keras import layers\n",
    "import matplotlib.pyplot as plt"
   ]
  },
  {
   "cell_type": "markdown",
   "metadata": {
    "colab_type": "text",
    "id": "tSNWAFdLr7Qn"
   },
   "source": [
    "### Download data"
   ]
  },
  {
   "cell_type": "code",
   "execution_count": 6,
   "metadata": {
    "colab": {
     "base_uri": "https://localhost:8080/",
     "height": 51
    },
    "colab_type": "code",
    "executionInfo": {
     "elapsed": 2595,
     "status": "ok",
     "timestamp": 1538316742174,
     "user": {
      "displayName": "максим вакурин",
      "photoUrl": "",
      "userId": "11172082525156924270"
     },
     "user_tz": -420
    },
    "id": "fgz9aL_vs41z",
    "outputId": "45e1308d-d1f6-4e0f-9d22-d64342456ee2",
    "scrolled": true
   },
   "outputs": [
    {
     "name": "stdout",
     "output_type": "stream",
     "text": [
      "Downloading data from https://s3.amazonaws.com/text-datasets/reuters.npz\n",
      "2113536/2110848 [==============================] - 1s 0us/step\n"
     ]
    }
   ],
   "source": [
    "(x_train, y_train), (x_test, y_test) = reuters.load_data(num_words=10000)"
   ]
  },
  {
   "cell_type": "markdown",
   "metadata": {
    "colab_type": "text",
    "id": "NU-mQWn6sCBD"
   },
   "source": [
    "### Change Colab Directory"
   ]
  },
  {
   "cell_type": "code",
   "execution_count": 2,
   "metadata": {
    "colab": {
     "base_uri": "https://localhost:8080/",
     "height": 34
    },
    "colab_type": "code",
    "executionInfo": {
     "elapsed": 1099,
     "status": "ok",
     "timestamp": 1538316702952,
     "user": {
      "displayName": "максим вакурин",
      "photoUrl": "",
      "userId": "11172082525156924270"
     },
     "user_tz": -420
    },
    "id": "kLYvj0X7w2A0",
    "outputId": "387643e2-5a05-456c-f99a-41bf741830a9"
   },
   "outputs": [
    {
     "data": {
      "text/plain": [
       "'/content'"
      ]
     },
     "execution_count": 2,
     "metadata": {
      "tags": []
     },
     "output_type": "execute_result"
    }
   ],
   "source": [
    "pwd"
   ]
  },
  {
   "cell_type": "code",
   "execution_count": 3,
   "metadata": {
    "colab": {
     "base_uri": "https://localhost:8080/",
     "height": 122
    },
    "colab_type": "code",
    "executionInfo": {
     "elapsed": 25469,
     "status": "ok",
     "timestamp": 1538316729821,
     "user": {
      "displayName": "максим вакурин",
      "photoUrl": "",
      "userId": "11172082525156924270"
     },
     "user_tz": -420
    },
    "id": "fvG4kklhq8eY",
    "outputId": "687ef4cd-2f37-4641-ee75-71c5d9871c76",
    "scrolled": true
   },
   "outputs": [
    {
     "name": "stdout",
     "output_type": "stream",
     "text": [
      "Go to this URL in a browser: https://accounts.google.com/o/oauth2/auth?client_id=947318989803-6bn6qk8qdgf4n4g3pfee6491hc0brc4i.apps.googleusercontent.com&redirect_uri=urn%3Aietf%3Awg%3Aoauth%3A2.0%3Aoob&scope=email%20https%3A%2F%2Fwww.googleapis.com%2Fauth%2Fdocs.test%20https%3A%2F%2Fwww.googleapis.com%2Fauth%2Fdrive%20https%3A%2F%2Fwww.googleapis.com%2Fauth%2Fdrive.photos.readonly%20https%3A%2F%2Fwww.googleapis.com%2Fauth%2Fpeopleapi.readonly&response_type=code\n",
      "\n",
      "Enter your authorization code:\n",
      "··········\n",
      "Mounted at /content/drive\n"
     ]
    }
   ],
   "source": [
    "from google.colab import drive\n",
    "drive.mount('/content/drive')"
   ]
  },
  {
   "cell_type": "code",
   "execution_count": 4,
   "metadata": {
    "colab": {
     "base_uri": "https://localhost:8080/",
     "height": 34
    },
    "colab_type": "code",
    "executionInfo": {
     "elapsed": 920,
     "status": "ok",
     "timestamp": 1538316731486,
     "user": {
      "displayName": "максим вакурин",
      "photoUrl": "",
      "userId": "11172082525156924270"
     },
     "user_tz": -420
    },
    "id": "kr12qwBxrc9p",
    "outputId": "ed304b19-62fa-480c-d77e-574fe64d7c03",
    "scrolled": true
   },
   "outputs": [
    {
     "name": "stdout",
     "output_type": "stream",
     "text": [
      "/content/drive/My Drive/DeepLearning/Colab Notebooks\n"
     ]
    }
   ],
   "source": [
    "cd drive/My Drive/DeepLearning/Colab Notebooks"
   ]
  },
  {
   "cell_type": "markdown",
   "metadata": {
    "colab_type": "text",
    "id": "OWoMFOkVEEF9"
   },
   "source": [
    "### Save Our Model"
   ]
  },
  {
   "cell_type": "code",
   "execution_count": 67,
   "metadata": {
    "colab": {
     "base_uri": "https://localhost:8080/",
     "height": 34
    },
    "colab_type": "code",
    "executionInfo": {
     "elapsed": 1149,
     "status": "ok",
     "timestamp": 1538320464568,
     "user": {
      "displayName": "максим вакурин",
      "photoUrl": "",
      "userId": "11172082525156924270"
     },
     "user_tz": -420
    },
    "id": "NHmr8Wk8C1d2",
    "outputId": "4453e024-b0ab-4d5f-ab04-ff762ba1a65d",
    "scrolled": true
   },
   "outputs": [
    {
     "data": {
      "text/plain": [
       "'/content/drive/My Drive/DeepLearning/Colab Notebooks'"
      ]
     },
     "execution_count": 67,
     "metadata": {
      "tags": []
     },
     "output_type": "execute_result"
    }
   ],
   "source": [
    "pwd"
   ]
  },
  {
   "cell_type": "code",
   "execution_count": 0,
   "metadata": {
    "colab": {},
    "colab_type": "code",
    "id": "wJ1loxkVC4ck"
   },
   "outputs": [],
   "source": [
    "path = 'model_weight/'"
   ]
  },
  {
   "cell_type": "code",
   "execution_count": 0,
   "metadata": {
    "colab": {},
    "colab_type": "code",
    "id": "aGVlOFNJBNd8"
   },
   "outputs": [],
   "source": [
    "L2_model.save(os.path.join(path, 'L2_model.h5'))"
   ]
  },
  {
   "cell_type": "markdown",
   "metadata": {
    "colab_type": "text",
    "id": "0N0Jg65fG-Ns"
   },
   "source": [
    "### Load Model "
   ]
  },
  {
   "cell_type": "code",
   "execution_count": 0,
   "metadata": {
    "colab": {},
    "colab_type": "code",
    "id": "8Ge4_IF0Dp0o"
   },
   "outputs": [],
   "source": [
    "from keras.models import load_model\n",
    "model_L2 = load_model(os.path.join(path, 'L2_model.h5'))"
   ]
  },
  {
   "cell_type": "markdown",
   "metadata": {
    "colab_type": "text",
    "id": "FFxamjf9G1a3"
   },
   "source": [
    "### Download Files On Computer"
   ]
  },
  {
   "cell_type": "code",
   "execution_count": 0,
   "metadata": {
    "colab": {},
    "colab_type": "code",
    "id": "9dqjPDv1FJWN"
   },
   "outputs": [],
   "source": [
    "from google.colab import files\n",
    "files.download(\"model_weight/L2_model.h5\")"
   ]
  },
  {
   "cell_type": "code",
   "execution_count": 7,
   "metadata": {
    "colab": {
     "base_uri": "https://localhost:8080/",
     "height": 34
    },
    "colab_type": "code",
    "executionInfo": {
     "elapsed": 1112,
     "status": "ok",
     "timestamp": 1538316744801,
     "user": {
      "displayName": "максим вакурин",
      "photoUrl": "",
      "userId": "11172082525156924270"
     },
     "user_tz": -420
    },
    "id": "S49Yxh72qz2d",
    "outputId": "8c33a8fe-4870-4474-c365-63af5b237016",
    "scrolled": true
   },
   "outputs": [
    {
     "data": {
      "text/plain": [
       "((8982,), (2246,))"
      ]
     },
     "execution_count": 7,
     "metadata": {
      "tags": []
     },
     "output_type": "execute_result"
    }
   ],
   "source": [
    "x_train.shape, x_test.shape"
   ]
  }
 ],
 "metadata": {
  "kernelspec": {
   "display_name": "Python 3",
   "language": "python",
   "name": "python3"
  },
  "language_info": {
   "codemirror_mode": {
    "name": "ipython",
    "version": 3
   },
   "file_extension": ".py",
   "mimetype": "text/x-python",
   "name": "python",
   "nbconvert_exporter": "python",
   "pygments_lexer": "ipython3",
   "version": "3.6.4"
  }
 },
 "nbformat": 4,
 "nbformat_minor": 2
}
